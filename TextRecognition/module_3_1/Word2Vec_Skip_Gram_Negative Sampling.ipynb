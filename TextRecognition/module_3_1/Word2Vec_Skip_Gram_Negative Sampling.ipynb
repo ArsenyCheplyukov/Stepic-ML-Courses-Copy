{
 "metadata": {
  "language_info": {
   "codemirror_mode": {
    "name": "ipython",
    "version": 3
   },
   "file_extension": ".py",
   "mimetype": "text/x-python",
   "name": "python",
   "nbconvert_exporter": "python",
   "pygments_lexer": "ipython3",
   "version": "3.8.3"
  },
  "orig_nbformat": 2,
  "kernelspec": {
   "name": "python383jvsc74a57bd020dfe1c3a30423f91dbe21abc93c47f1ad7995f768354707f3e327398f9ce3c3",
   "display_name": "Python 3.8.3 64-bit ('base': conda)"
  }
 },
 "nbformat": 4,
 "nbformat_minor": 2,
 "cells": [
  {
   "cell_type": "code",
   "execution_count": 2,
   "metadata": {},
   "outputs": [],
   "source": [
    "import numpy as np\n"
   ]
  },
  {
   "cell_type": "code",
   "execution_count": 10,
   "metadata": {},
   "outputs": [
    {
     "output_type": "execute_result",
     "data": {
      "text/plain": [
       "array([ 0.62482338,  0.36458556, -0.09441798])"
      ]
     },
     "metadata": {},
     "execution_count": 10
    }
   ],
   "source": [
    "lr = 0.342405260598321\n",
    "w = np.array([0.9836099232994968, 0.3847689688960674, 0.033312247867206435])\n",
    "x = np.array([0.882545488649187, 0.6223076699449618, 0.1633041302523962])\n",
    "sigmoid = 1/(1 + np.exp(-np.sum(w*x)) - label)\n",
    "label = 0\n",
    "w-lr*(sigmoid)\n",
    "#->array([ 0.7424381 ,  0.19316693, -0.13835605])\n",
    "x-lr*(sigmoid)\n",
    "#->array([ 0.64137367,  0.43070563, -0.00836417])"
   ]
  },
  {
   "cell_type": "code",
   "execution_count": null,
   "metadata": {},
   "outputs": [],
   "source": []
  }
 ]
}