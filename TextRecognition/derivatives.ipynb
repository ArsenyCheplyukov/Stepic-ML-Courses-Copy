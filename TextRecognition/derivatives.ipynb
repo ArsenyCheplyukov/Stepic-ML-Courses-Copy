{
 "metadata": {
  "language_info": {
   "codemirror_mode": {
    "name": "ipython",
    "version": 3
   },
   "file_extension": ".py",
   "mimetype": "text/x-python",
   "name": "python",
   "nbconvert_exporter": "python",
   "pygments_lexer": "ipython3",
   "version": "3.8.3"
  },
  "orig_nbformat": 2,
  "kernelspec": {
   "name": "python383jvsc74a57bd020dfe1c3a30423f91dbe21abc93c47f1ad7995f768354707f3e327398f9ce3c3",
   "display_name": "Python 3.8.3 64-bit ('base': conda)"
  }
 },
 "nbformat": 4,
 "nbformat_minor": 2,
 "cells": [
  {
   "cell_type": "code",
   "execution_count": 2,
   "metadata": {},
   "outputs": [],
   "source": [
    "import sympy.parsing.sympy_parser\n",
    "import sympy\n",
    "import math"
   ]
  },
  {
   "cell_type": "code",
   "execution_count": 10,
   "metadata": {},
   "outputs": [
    {
     "output_type": "stream",
     "name": "stdout",
     "text": [
      "(2*c*w*(exp(-b - w*x) + 1) - x*y*exp(-b - w*x) - x*(y - 1))/(exp(-b - w*x) + 1)\n"
     ]
    }
   ],
   "source": [
    "x, y, w, b, c = sympy.symbols('x y w b c')\n",
    "res = sympy.diff(c*(sympy.Pow(w, 2)+sympy.Pow(b, 2))-y*sympy.log(1/(1+sympy.exp(-w*x-b)))-(1-y)*sympy.log(1-1/(1+sympy.exp(-w*x-b))), w)\n",
    "print(str(sympy.simplify(res)))"
   ]
  },
  {
   "cell_type": "code",
   "execution_count": 13,
   "metadata": {},
   "outputs": [],
   "source": [
    "import numpy as np"
   ]
  },
  {
   "cell_type": "code",
   "execution_count": 16,
   "metadata": {},
   "outputs": [
    {
     "output_type": "execute_result",
     "data": {
      "text/plain": [
       "976"
      ]
     },
     "metadata": {},
     "execution_count": 16
    }
   ],
   "source": [
    "z = np.sum([1/x**2 for x in range(1,1000)])\n",
    "#Z*k**2 <1000\n",
    "k = np.sqrt(1000/z)\n",
    "1000 - round(k - 1)"
   ]
  },
  {
   "cell_type": "code",
   "execution_count": null,
   "metadata": {},
   "outputs": [],
   "source": []
  }
 ]
}