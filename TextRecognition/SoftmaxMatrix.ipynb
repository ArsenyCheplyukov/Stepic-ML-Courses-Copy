{
 "metadata": {
  "language_info": {
   "codemirror_mode": {
    "name": "ipython",
    "version": 3
   },
   "file_extension": ".py",
   "mimetype": "text/x-python",
   "name": "python",
   "nbconvert_exporter": "python",
   "pygments_lexer": "ipython3",
   "version": "3.8.3"
  },
  "orig_nbformat": 2,
  "kernelspec": {
   "name": "python383jvsc74a57bd020dfe1c3a30423f91dbe21abc93c47f1ad7995f768354707f3e327398f9ce3c3",
   "display_name": "Python 3.8.3 64-bit (conda)"
  }
 },
 "nbformat": 4,
 "nbformat_minor": 2,
 "cells": [
  {
   "cell_type": "code",
   "execution_count": 1,
   "metadata": {},
   "outputs": [],
   "source": [
    "import numpy as np\n",
    "from scipy.special import softmax"
   ]
  },
  {
   "cell_type": "code",
   "execution_count": 3,
   "metadata": {},
   "outputs": [],
   "source": [
    "unnorm_scores = [2, 3, 0, 0]\n",
    "att_scores = softmax(unnorm_scores)"
   ]
  },
  {
   "cell_type": "code",
   "execution_count": 4,
   "metadata": {},
   "outputs": [
    {
     "output_type": "execute_result",
     "data": {
      "text/plain": [
       "array([0.25069239, 0.68145256, 0.03392753, 0.03392753])"
      ]
     },
     "metadata": {},
     "execution_count": 4
    }
   ],
   "source": [
    "att_scores"
   ]
  },
  {
   "cell_type": "code",
   "execution_count": 5,
   "metadata": {},
   "outputs": [
    {
     "output_type": "execute_result",
     "data": {
      "text/plain": [
       "array([0.28461991, 0.78323514, 2.54574246])"
      ]
     },
     "metadata": {},
     "execution_count": 5
    }
   ],
   "source": [
    "matrix = np.array([[1,0,1,0],[0,1,3,0],[2,3,0,0]]).T\n",
    "queries = np.array(att_scores)\n",
    "queries @ matrix"
   ]
  },
  {
   "cell_type": "code",
   "execution_count": null,
   "metadata": {},
   "outputs": [],
   "source": []
  }
 ]
}