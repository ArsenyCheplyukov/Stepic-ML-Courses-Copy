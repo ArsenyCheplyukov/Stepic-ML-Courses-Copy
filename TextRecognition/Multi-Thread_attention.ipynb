{
 "metadata": {
  "language_info": {
   "codemirror_mode": {
    "name": "ipython",
    "version": 3
   },
   "file_extension": ".py",
   "mimetype": "text/x-python",
   "name": "python",
   "nbconvert_exporter": "python",
   "pygments_lexer": "ipython3",
   "version": "3.8.3"
  },
  "orig_nbformat": 2,
  "kernelspec": {
   "name": "python383jvsc74a57bd020dfe1c3a30423f91dbe21abc93c47f1ad7995f768354707f3e327398f9ce3c3",
   "display_name": "Python 3.8.3 64-bit (conda)"
  }
 },
 "nbformat": 4,
 "nbformat_minor": 2,
 "cells": [
  {
   "cell_type": "code",
   "execution_count": 1,
   "metadata": {},
   "outputs": [],
   "source": [
    "import numpy as np\n",
    "from scipy.special import softmax"
   ]
  },
  {
   "cell_type": "code",
   "execution_count": 4,
   "metadata": {},
   "outputs": [],
   "source": [
    "projK = [np.array([[1, 0], [0, 0]]), np.array([[0, 0], [1, 0]])]\n",
    "projQ = [np.array([[0, 1], [1, 0]]), np.array([[1, 1], [1, 1]])]\n",
    "projV = [np.array([[1], [0]]), np.array([[0], [1]])]\n",
    "biasK = [np.array([0, 0]), np.array([0, 0])]\n",
    "biasQ = [np.array([0, 0]), np.array([0, 0])]\n",
    "biasV = [0, 0]\n",
    "mat = np.array([[1,0,1,0], [0,1,1,0]]).T"
   ]
  },
  {
   "cell_type": "code",
   "execution_count": 7,
   "metadata": {},
   "outputs": [],
   "source": [
    "keys = [mat @ projK[0] + biasK[0], mat @ projK[1] + biasK[1]] \n",
    "queries = [mat @ projQ[0] + biasQ[0], mat @ projQ[1] + biasQ[1]]\n",
    "values = [mat @ projV[0] + biasV[0], mat @ projV[1] + biasV[1]]"
   ]
  },
  {
   "cell_type": "code",
   "execution_count": 8,
   "metadata": {},
   "outputs": [],
   "source": [
    "logits = [queries[0] @ keys[0].T, queries[1] @ keys[1].T]"
   ]
  },
  {
   "cell_type": "code",
   "execution_count": 9,
   "metadata": {},
   "outputs": [],
   "source": [
    "attScores = [softmax(logits[0], axis=1), softmax(logits[1], axis=1)]"
   ]
  },
  {
   "cell_type": "code",
   "execution_count": 10,
   "metadata": {},
   "outputs": [
    {
     "output_type": "execute_result",
     "data": {
      "text/plain": [
       "array([[[0.5       , 0.73105858],\n",
       "        [0.73105858, 0.73105858],\n",
       "        [0.73105858, 0.88079708],\n",
       "        [0.5       , 0.5       ]]])"
      ]
     },
     "metadata": {},
     "execution_count": 10
    }
   ],
   "source": [
    "np.stack((attScores[0] @ values[0],attScores[1] @ values[1])).T"
   ]
  },
  {
   "cell_type": "code",
   "execution_count": null,
   "metadata": {},
   "outputs": [],
   "source": []
  }
 ]
}